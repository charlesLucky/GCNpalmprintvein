{
 "cells": [
  {
   "cell_type": "code",
   "execution_count": 4,
   "id": "6c20581d-f5c4-47a1-8b6e-9289655b0ef8",
   "metadata": {},
   "outputs": [],
   "source": [
    "from __future__ import division\n",
    "import os\n",
    "os.environ[\"CUDA_VISIBLE_DEVICES\"] = '0'\n",
    "import time\n",
    "import argparse\n",
    "import torch\n",
    "from torchvision import datasets, transforms\n",
    "import torch.optim as optim\n",
    "import torch.nn as nn\n",
    "from torch.optim.lr_scheduler import StepLR, MultiStepLR\n",
    "import torch.nn.functional as F\n",
    "from utils import accuracy, AverageMeter, save_checkpoint, visualize_graph, get_parameters_size\n",
    "from torch.utils.tensorboard import SummaryWriter\n",
    "from net_factory import get_network_fn"
   ]
  },
  {
   "cell_type": "code",
   "execution_count": 5,
   "id": "ce48cc86-8730-40c6-bf22-072416289312",
   "metadata": {},
   "outputs": [],
   "source": [
    "# dataset\n",
    "from torch.utils.data import DataLoader\n",
    "from torch.utils.data import Dataset\n",
    "from torch.nn import DataParallel\n",
    "import tqdm\n",
    "import numpy as np\n",
    "# del test_loader\n",
    "import tqdm\n",
    "# test_loader\n",
    "\n",
    "from loss import CSQLoss\n",
    "from DsCasiaM  import load_data"
   ]
  },
  {
   "cell_type": "code",
   "execution_count": 21,
   "id": "6983cbb4-bc52-4e7d-9ebf-a700dd4ba4fb",
   "metadata": {},
   "outputs": [
    {
     "name": "stdout",
     "output_type": "stream",
     "text": [
      "{'lambda': 0.1, 'optimizer': {'type': <class 'torch.optim.rmsprop.RMSprop'>, 'optim_params': {'lr': 1e-05, 'weight_decay': 1e-05}}, 'info': '[CSQ]', 'resize_size': 256, 'crop_size': 224, 'batch_size': 64, 'net': 'GCN2wayHashingsimple', 'dataset': 'casia_m', 'n_class': 500, 'epoch': 500, 'test_map': 10, 'device': device(type='cuda', index=0), 'bit_list': [1024]}\n"
     ]
    }
   ],
   "source": [
    "\n",
    "parser = argparse.ArgumentParser(description='PyTorch GCN MNIST Training')\n",
    "\n",
    "parser.add_argument('--epochs', default=50, type=int, metavar='N',\n",
    "                    help='number of total epochs to run')\n",
    "parser.add_argument('-j', '--workers', default=4, type=int, metavar='N',\n",
    "                    help='number of data loading workers (default: 4)')\n",
    "parser.add_argument('--start-epoch', default=0, type=int, metavar='N',\n",
    "                    help='manual epoch number (useful on restarts)')\n",
    "parser.add_argument('-b', '--batch-size', default=128, type=int,\n",
    "                    metavar='N', help='mini-batch size (default: 64)')\n",
    "parser.add_argument('--lr', '--learning-rate', default=0.01, type=float,\n",
    "                    metavar='LR', help='initial learning rate')\n",
    "parser.add_argument('--momentum', default=0.9, type=float, metavar='M',\n",
    "                    help='momentum')\n",
    "parser.add_argument('--print-freq', '-p', default=10, type=int,\n",
    "                    metavar='N', help='print frequency (default: 10)')\n",
    "parser.add_argument('--resume', default='', type=str, metavar='PATH',\n",
    "                    help='path to latest checkpoint (default: none)')\n",
    "parser.add_argument('--pretrained', default='', type=str, metavar='PATH',\n",
    "                    help='path to pretrained checkpoint (default: none)')\n",
    "parser.add_argument('--gpu', default=0, type=int,\n",
    "                    metavar='N', help='GPU device ID (default: -1)')\n",
    "parser.add_argument('--dataset_dir', default='../../MNIST', type=str, metavar='PATH',\n",
    "                    help='path to dataset (default: ../MNIST)')\n",
    "parser.add_argument('--comment', default='', type=str, metavar='INFO',\n",
    "                    help='Extra description for tensorboard')\n",
    "parser.add_argument('--model', default='gcn', type=str, metavar='NETWORK',\n",
    "                    help='Network to train')\n",
    "\n",
    "args = parser.parse_args(args=[])\n",
    "\n",
    "use_cuda = (args.gpu >= 0) and torch.cuda.is_available()\n",
    "best_prec1 = 0\n",
    "writer = SummaryWriter(comment='_'+args.model+'_'+args.comment)\n",
    "iteration = 0\n",
    "\n",
    "def get_config():\n",
    "    config = {\n",
    "        \"lambda\": 0.1,\n",
    "        \"optimizer\": {\"type\": optim.RMSprop, \"optim_params\": {\"lr\": 1e-5, \"weight_decay\": 10 ** -5}},\n",
    "        \"info\": \"[CSQ]\",\n",
    "        \"resize_size\": 256,\n",
    "        \"crop_size\": 224,\n",
    "        \"batch_size\": 64,\n",
    "        \"net\": 'GCN2wayHashingsimple',\n",
    "        \"dataset\": \"casia_m\",\n",
    "        \"n_class\":500,\n",
    "        \"epoch\": 500,\n",
    "        \"test_map\": 10,\n",
    "        # \"device\":torch.device(\"cpu\"),\n",
    "        \"device\": torch.device(\"cuda:0\"),\n",
    "        \"bit_list\": [1024],\n",
    "    }\n",
    "#     config = config_dataset(config)\n",
    "    return config\n",
    "\n",
    "\n",
    "config = get_config()\n",
    "print(config)\n",
    "bit = 1024\n",
    "device = torch.device(\"cuda:0\")"
   ]
  },
  {
   "cell_type": "code",
   "execution_count": 19,
   "id": "f3cdaa3e-43a8-4a65-b846-dbc1f66065e5",
   "metadata": {},
   "outputs": [
    {
     "ename": "NameError",
     "evalue": "name 'get_network_fn' is not defined",
     "output_type": "error",
     "traceback": [
      "\u001b[1;31m---------------------------------------------------------------------------\u001b[0m",
      "\u001b[1;31mNameError\u001b[0m                                 Traceback (most recent call last)",
      "\u001b[1;32m~\\AppData\\Local\\Temp/ipykernel_2424/2003776450.py\u001b[0m in \u001b[0;36m<module>\u001b[1;34m\u001b[0m\n\u001b[0;32m      1\u001b[0m \u001b[1;31m# Load model\u001b[0m\u001b[1;33m\u001b[0m\u001b[1;33m\u001b[0m\u001b[1;33m\u001b[0m\u001b[0m\n\u001b[1;32m----> 2\u001b[1;33m \u001b[0mmodel\u001b[0m \u001b[1;33m=\u001b[0m \u001b[0mget_network_fn\u001b[0m\u001b[1;33m(\u001b[0m\u001b[0mname\u001b[0m\u001b[1;33m=\u001b[0m\u001b[0mconfig\u001b[0m\u001b[1;33m[\u001b[0m\u001b[1;34m'net'\u001b[0m\u001b[1;33m]\u001b[0m\u001b[1;33m)\u001b[0m\u001b[1;31m#GCNCNN\u001b[0m\u001b[1;33m\u001b[0m\u001b[1;33m\u001b[0m\u001b[0m\n\u001b[0m\u001b[0;32m      3\u001b[0m \u001b[1;31m# print(model)\u001b[0m\u001b[1;33m\u001b[0m\u001b[1;33m\u001b[0m\u001b[1;33m\u001b[0m\u001b[0m\n\u001b[0;32m      4\u001b[0m \u001b[1;33m\u001b[0m\u001b[0m\n\u001b[0;32m      5\u001b[0m \u001b[1;31m# Try to visulize the model\u001b[0m\u001b[1;33m\u001b[0m\u001b[1;33m\u001b[0m\u001b[1;33m\u001b[0m\u001b[0m\n",
      "\u001b[1;31mNameError\u001b[0m: name 'get_network_fn' is not defined"
     ]
    }
   ],
   "source": [
    "\n",
    "# Load model\n",
    "model = get_network_fn(name=config['net'])#GCNCNN\n",
    "# print(model)\n",
    "\n",
    "# Try to visulize the model\n",
    "try:\n",
    "\tvisualize_graph(model, writer, input_size=(1, 5, 128, 128))\n",
    "except:\n",
    "\tprint('\\nNetwork Visualization Failed! But the training procedure continue.')\n"
   ]
  },
  {
   "cell_type": "code",
   "execution_count": null,
   "id": "7acf49d1-1fd2-4255-ad2d-759efd90d3dd",
   "metadata": {},
   "outputs": [],
   "source": [
    "# out = model(torch.rand(5, 5, 128, 128))\n",
    "# print(out.size())"
   ]
  },
  {
   "cell_type": "code",
   "execution_count": null,
   "id": "2ce89666-4993-4a4a-9625-722d15d45121",
   "metadata": {},
   "outputs": [],
   "source": [
    "# # Calculate the total parameters of the model\n",
    "# print('Model size: {:0.2f} million float parameters'.format(get_parameters_size(model)/1e6))\n",
    "# args.pretrained = 'model_best_gcn2waycqhashing.pth.tar'\n",
    "# if os.path.isfile(args.pretrained):\n",
    "#     print(\"=> loading checkpoint '{}'\".format(args.pretrained))\n",
    "#     checkpoint = torch.load(args.pretrained,map_location=torch.device('cpu'))\n",
    "#     model.load_state_dict(checkpoint['state_dict'])\n",
    "# else:\n",
    "#     print(\"=> no checkpoint found at '{}'\".format(args.pretrained))\n",
    "# print(checkpoint['best_prec1'])"
   ]
  },
  {
   "cell_type": "code",
   "execution_count": 8,
   "id": "d3d7fd0b-2f15-4bd8-91ab-f1e224e7e035",
   "metadata": {},
   "outputs": [
    {
     "name": "stdout",
     "output_type": "stream",
     "text": [
      "\n",
      "...... Train files loading\n",
      "\n",
      "split train users: 200\n"
     ]
    },
    {
     "name": "stderr",
     "output_type": "stream",
     "text": [
      "100%|████████████████████████████████████████████████████████████████████████████████| 200/200 [00:28<00:00,  7.05it/s]\n"
     ]
    },
    {
     "name": "stdout",
     "output_type": "stream",
     "text": [
      "\n",
      "Train files loaded ......\n",
      "\n",
      "\n",
      "...... Test files loading\n",
      "\n",
      "split train users: 200\n"
     ]
    },
    {
     "name": "stderr",
     "output_type": "stream",
     "text": [
      "100%|████████████████████████████████████████████████████████████████████████████████| 200/200 [00:12<00:00, 15.48it/s]"
     ]
    },
    {
     "name": "stdout",
     "output_type": "stream",
     "text": [
      "\n",
      "Test files loaded ......\n",
      "\n"
     ]
    },
    {
     "name": "stderr",
     "output_type": "stream",
     "text": [
      "\n"
     ]
    }
   ],
   "source": [
    "# train_loader, test_loader, dataset_loader, num_train, num_test, num_dataset = get_data(config)\n",
    "batch_size = 600\n",
    "train_loader = DataLoader(load_data(training=True), batch_size=batch_size, shuffle=True, num_workers=8, pin_memory=True,prefetch_factor=8)  # ,prefetch_factor=2\n",
    "test_loader = DataLoader(load_data(training=False), batch_size=64, shuffle=False)  # ,prefetch_factor=2\n"
   ]
  },
  {
   "cell_type": "code",
   "execution_count": 16,
   "id": "ba85d824-2a93-463c-9082-c0fa9f8da189",
   "metadata": {},
   "outputs": [
    {
     "name": "stdout",
     "output_type": "stream",
     "text": [
      "<torch.utils.data.dataloader.DataLoader object at 0x000001A5E7725B08>\n",
      "800\n",
      "400\n"
     ]
    }
   ],
   "source": [
    "# batch_size = 32\n",
    "dataset_loader = train_loader\n",
    "num_train = len(train_loader.dataset)\n",
    "num_test = len(test_loader.dataset)\n",
    "print(len(train_loader.dataset))\n",
    "print(len(test_loader.dataset))\n"
   ]
  },
  {
   "cell_type": "code",
   "execution_count": null,
   "id": "b92f556f-0fd8-4248-894e-db92eb2062cd",
   "metadata": {},
   "outputs": [],
   "source": [
    "config[\"num_train\"] = num_train\n",
    "model = model.to(device)\n",
    "optimizer = config[\"optimizer\"][\"type\"](model.parameters(), **(config[\"optimizer\"][\"optim_params\"]))\n",
    "criterion = CSQLoss(config, bit)\n",
    "# optimizer = optim.SGD(model.parameters(), lr=0.0001, momentum=args.momentum, weight_decay=3e-05)\n",
    "scheduler = StepLR(optimizer, step_size=100, gamma=0.9)\n"
   ]
  },
  {
   "cell_type": "code",
   "execution_count": null,
   "id": "37e5dc6d-0958-4215-ba97-1a473024789e",
   "metadata": {},
   "outputs": [],
   "source": [
    "import numpy as np\n",
    "from pyeer.eer_info import get_eer_stats\n",
    "from pyeer.report import generate_eer_report, export_error_rates\n",
    "from pyeer.plot import plot_eer_stats\n",
    "\n",
    "def normalized(a, axis=-1, order=2):\n",
    "    l2 = np.atleast_1d(np.linalg.norm(a, order, axis))\n",
    "    l2[l2==0] = 1\n",
    "    return a / np.expand_dims(l2, axis)\n",
    "\n",
    "A = np.random.randn(1,2)*10\n",
    "# print(A)\n",
    "# print(normalized(A,0))\n",
    "print(normalized(A,1))# ok verified\n",
    "\n",
    "\n",
    "def test(net,test_loader):\n",
    "    test_loss = AverageMeter()\n",
    "    acc = AverageMeter()\n",
    "    FEATS = []\n",
    "    GT = []\n",
    "    net.eval()\n",
    "    features = {}\n",
    "    with torch.no_grad():\n",
    "        for batch_idx, img in enumerate(test_loader):\n",
    "            rbn = img[0].permute(0, 3, 1, 2).to(device, dtype=torch.float)\n",
    "            label = img[1].to(device)\n",
    "\n",
    "            output = net(rbn)\n",
    "            FEATS.append(output.cpu().numpy())\n",
    "#             FEATS.append(features['feats'].cpu().numpy())\n",
    "            GT.append(img[1].numpy())\n",
    "\n",
    "    GCNFEATS = np.concatenate(FEATS)\n",
    "    GT = np.concatenate(GT)\n",
    "    GCNFEATS = normalized(GCNFEATS,1)\n",
    "    print('- feats shape:', GCNFEATS.shape)\n",
    "    print('- GT shape:', GT.shape)\n",
    "    from numpy import dot\n",
    "    from numpy.linalg import norm\n",
    "\n",
    "    def cossim(a,b):\n",
    "        return dot(a, b)/(norm(a)*norm(b))\n",
    "\n",
    "    pred_scores = []\n",
    "    gt_label = []\n",
    "\n",
    "    for i in range(200):\n",
    "        for j in range(i+1,200):\n",
    "            # pred_scores.append(final[i,j].detach().cpu().numpy())\n",
    "            a = cossim(GCNFEATS[i,:],GCNFEATS[j,:])\n",
    "            pred_scores.append(a)\n",
    "            gt_label.append(i//2 == j//2)\n",
    "\n",
    "    pred_scores = np.array(pred_scores)\n",
    "    gt_label = np.array(gt_label)\n",
    "\n",
    "    Gen = pred_scores[gt_label]\n",
    "    Imp = pred_scores[gt_label==False]\n",
    "    Imp = Imp[np.random.permutation(len(Imp))[:len(Gen)]]\n",
    "#     import seaborn as sns\n",
    "#     sns.distplot(Gen,  kde=False, label='Gen')\n",
    "#     # df =gapminder[gapminder.continent == 'Americas']\n",
    "#     sns.distplot(Imp,  kde=False,label='Imp')\n",
    "#     # Plot formatting\n",
    "#     plt.legend(prop={'size': 12})\n",
    "#     plt.title('Life Expectancy of Two Continents')\n",
    "#     plt.xlabel('Life Exp (years)')\n",
    "#     plt.ylabel('Density')\n",
    "    # Calculating stats for classifier A\n",
    "    stats_a = get_eer_stats(Gen, Imp)\n",
    "    print(stats_a.eer)\n",
    "\n",
    "    return stats_a.eer\n",
    "\n",
    "##### INSPECT FEATURES\n",
    "\n"
   ]
  },
  {
   "cell_type": "code",
   "execution_count": null,
   "id": "53117228-f6d8-4b16-b4b1-5cc939b42d58",
   "metadata": {
    "scrolled": true,
    "tags": []
   },
   "outputs": [],
   "source": [
    "Best_eer = 1.0\n",
    "\n",
    "config[\"epoch\"] = 2000\n",
    "for epoch in range(config[\"epoch\"]):\n",
    "\n",
    "    current_time = time.strftime('%H:%M:%S', time.localtime(time.time()))\n",
    "\n",
    "    print(\"%s[%2d/%2d][%s] bit:%d, dataset:%s, training....\" % (\n",
    "        config[\"info\"], epoch + 1, config[\"epoch\"], current_time, bit, config[\"dataset\"]), end=\"\")\n",
    "\n",
    "    model.train()\n",
    "\n",
    "    train_loss = 0\n",
    "    for batch_idx, img in enumerate(train_loader):\n",
    "        image = img[0].permute(0, 3, 1, 2).to(device, dtype=torch.float)\n",
    "        label = img[1].to(device)\n",
    "\n",
    "        optimizer.zero_grad()\n",
    "        u = model(image)\n",
    "\n",
    "        loss = criterion(u, label.float(), 0, config)\n",
    "        train_loss += loss.item()\n",
    "\n",
    "        loss.backward()\n",
    "        optimizer.step()\n",
    "\n",
    "    train_loss = train_loss / len(train_loader)\n",
    "    if epoch % 50 ==0:\n",
    "        eer = test(model,test_loader)\n",
    "        if eer < Best_eer:\n",
    "            Best_eer = eer\n",
    "            save_checkpoint({\n",
    "                'epoch': epoch + 1,\n",
    "                'state_dict': model.state_dict(),\n",
    "                'best_prec1': Best_eer,\n",
    "                'optimizer' : optimizer.state_dict(),\n",
    "            }, True, filename='checkpoint'+config['net']+config['dataset']+'.pth.tar', remark=config['net']+config['dataset'])\n",
    "        print(\"%s epoch:%d, bit:%d, dataset:%s,eer:%.5f, Best eer: %.5f\" % (\n",
    "            config[\"info\"], epoch + 1, bit, config[\"dataset\"], eer, Best_eer))\n",
    "    print(\"\\b\\b\\b\\b\\b\\b\\b loss:%.5f\" % (train_loss))##loss:0.625\n",
    "    scheduler.step()\n"
   ]
  }
 ],
 "metadata": {
  "kernelspec": {
   "display_name": "ailab",
   "language": "python",
   "name": "ailab"
  },
  "language_info": {
   "codemirror_mode": {
    "name": "ipython",
    "version": 3
   },
   "file_extension": ".py",
   "mimetype": "text/x-python",
   "name": "python",
   "nbconvert_exporter": "python",
   "pygments_lexer": "ipython3",
   "version": "3.7.11"
  }
 },
 "nbformat": 4,
 "nbformat_minor": 5
}
